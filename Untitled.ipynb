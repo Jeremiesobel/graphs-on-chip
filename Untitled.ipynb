{
 "cells": [
  {
   "cell_type": "code",
   "execution_count": 1,
   "metadata": {},
   "outputs": [],
   "source": [
    "import numpy as np\n",
    "from scipy.spatial import Delaunay\n",
    "import networkx as nx\n",
    " \n",
    "import processing.processing_functions as pr\n",
    "import graph_generation.graph_generation_func as graph"
   ]
  },
  {
   "cell_type": "code",
   "execution_count": 2,
   "metadata": {},
   "outputs": [],
   "source": [
    "def prep_points(cells:dict):\n",
    "    \n",
    "    return [[cells[cell]['x'], cells[cell]['y'], cells[cell]['z']] for cell in cells.keys()]"
   ]
  },
  {
   "cell_type": "code",
   "execution_count": 3,
   "metadata": {},
   "outputs": [],
   "source": [
    "from collections import defaultdict\n",
    "\n",
    "def find_neighbors(tess):\n",
    "    neighbors = defaultdict(set)\n",
    "\n",
    "    for simplex in tess.simplices:        \n",
    "        for idx in simplex:\n",
    "                        \n",
    "            other = set(simplex)            \n",
    "            other.remove(idx)\n",
    "            neighbors[idx] = neighbors[idx].union(other)\n",
    "    return neighbors"
   ]
  },
  {
   "cell_type": "code",
   "execution_count": 4,
   "metadata": {},
   "outputs": [],
   "source": [
    "def make_graph(neighbors):\n",
    "    \n",
    "    G=nx.Graph()\n",
    "    \n",
    "    neighbors = dict(neighbors)\n",
    "    \n",
    "    for key in neighbors:\n",
    "        for node in neighbors[key]:\n",
    "        \n",
    "            G.add_edge(key, node)\n",
    "        \n",
    "    return G"
   ]
  },
  {
   "cell_type": "code",
   "execution_count": 5,
   "metadata": {},
   "outputs": [
    {
     "ename": "AttributeError",
     "evalue": "'NoneType' object has no attribute 'remove_edge'",
     "output_type": "error",
     "traceback": [
      "\u001b[0;31m---------------------------------------------------------------------------\u001b[0m",
      "\u001b[0;31mAttributeError\u001b[0m                            Traceback (most recent call last)",
      "\u001b[0;32m<ipython-input-5-e2d78b8279d2>\u001b[0m in \u001b[0;36m<module>\u001b[0;34m\u001b[0m\n\u001b[1;32m      3\u001b[0m \u001b[0mspheroid\u001b[0m\u001b[0;34m[\u001b[0m\u001b[0;34m'cells'\u001b[0m\u001b[0;34m]\u001b[0m \u001b[0;34m=\u001b[0m \u001b[0mcells\u001b[0m\u001b[0;34m\u001b[0m\u001b[0;34m\u001b[0m\u001b[0m\n\u001b[1;32m      4\u001b[0m \u001b[0;34m\u001b[0m\u001b[0m\n\u001b[0;32m----> 5\u001b[0;31m \u001b[0mG\u001b[0m \u001b[0;34m=\u001b[0m \u001b[0mgraph\u001b[0m\u001b[0;34m.\u001b[0m\u001b[0mgenerate_voronoi_graph\u001b[0m\u001b[0;34m(\u001b[0m\u001b[0mspheroid\u001b[0m\u001b[0;34m,\u001b[0m \u001b[0mzRatio\u001b[0m \u001b[0;34m=\u001b[0m \u001b[0;36m1\u001b[0m\u001b[0;34m,\u001b[0m \u001b[0mdCells\u001b[0m \u001b[0;34m=\u001b[0m \u001b[0;36m0.2\u001b[0m\u001b[0;34m)\u001b[0m\u001b[0;34m\u001b[0m\u001b[0;34m\u001b[0m\u001b[0m\n\u001b[0m",
      "\u001b[0;32m~/Documents/Projets/Projets Code/graphs-on-chip/graph_generation/graph_generation_func.py\u001b[0m in \u001b[0;36mgenerate_voronoi_graph\u001b[0;34m(spheroid, zRatio, dCells)\u001b[0m\n\u001b[1;32m     97\u001b[0m             \u001b[0mG\u001b[0m\u001b[0;34m.\u001b[0m\u001b[0madd_node\u001b[0m\u001b[0;34m(\u001b[0m\u001b[0mind\u001b[0m\u001b[0;34m,\u001b[0m \u001b[0mcolor\u001b[0m \u001b[0;34m=\u001b[0m \u001b[0mcells\u001b[0m\u001b[0;34m[\u001b[0m\u001b[0mcells_ind\u001b[0m\u001b[0;34m]\u001b[0m\u001b[0;34m[\u001b[0m\u001b[0;34m'color'\u001b[0m\u001b[0;34m]\u001b[0m\u001b[0;34m)\u001b[0m\u001b[0;34m\u001b[0m\u001b[0;34m\u001b[0m\u001b[0m\n\u001b[1;32m     98\u001b[0m \u001b[0;34m\u001b[0m\u001b[0m\n\u001b[0;32m---> 99\u001b[0;31m     \u001b[0;32mreturn\u001b[0m \u001b[0mtrim_graph_voronoi\u001b[0m\u001b[0;34m(\u001b[0m\u001b[0mG\u001b[0m\u001b[0;34m,\u001b[0m \u001b[0mzRatio\u001b[0m\u001b[0;34m,\u001b[0m \u001b[0mdCells\u001b[0m\u001b[0;34m)\u001b[0m\u001b[0;34m\u001b[0m\u001b[0;34m\u001b[0m\u001b[0m\n\u001b[0m\u001b[1;32m    100\u001b[0m \u001b[0;34m\u001b[0m\u001b[0m\n\u001b[1;32m    101\u001b[0m \u001b[0;32mdef\u001b[0m \u001b[0mtrim_graph_voronoi\u001b[0m\u001b[0;34m(\u001b[0m\u001b[0mG\u001b[0m\u001b[0;34m,\u001b[0m \u001b[0mzRatio\u001b[0m\u001b[0;34m,\u001b[0m \u001b[0mdCells\u001b[0m\u001b[0;34m)\u001b[0m\u001b[0;34m:\u001b[0m\u001b[0;34m\u001b[0m\u001b[0;34m\u001b[0m\u001b[0m\n",
      "\u001b[0;32m~/Documents/Projets/Projets Code/graphs-on-chip/graph_generation/graph_generation_func.py\u001b[0m in \u001b[0;36mtrim_graph_voronoi\u001b[0;34m(G, zRatio, dCells)\u001b[0m\n\u001b[1;32m    119\u001b[0m \u001b[0;34m\u001b[0m\u001b[0m\n\u001b[1;32m    120\u001b[0m         \u001b[0mi\u001b[0m\u001b[0;34m,\u001b[0m \u001b[0mj\u001b[0m \u001b[0;34m=\u001b[0m \u001b[0me\u001b[0m\u001b[0;34m\u001b[0m\u001b[0;34m\u001b[0m\u001b[0m\n\u001b[0;32m--> 121\u001b[0;31m         \u001b[0mG\u001b[0m \u001b[0;34m=\u001b[0m \u001b[0mG\u001b[0m\u001b[0;34m.\u001b[0m\u001b[0mremove_edge\u001b[0m\u001b[0;34m(\u001b[0m\u001b[0mi\u001b[0m\u001b[0;34m,\u001b[0m\u001b[0mj\u001b[0m\u001b[0;34m)\u001b[0m\u001b[0;34m\u001b[0m\u001b[0;34m\u001b[0m\u001b[0m\n\u001b[0m\u001b[1;32m    122\u001b[0m \u001b[0;34m\u001b[0m\u001b[0m\n\u001b[1;32m    123\u001b[0m     \u001b[0;32mreturn\u001b[0m \u001b[0mG\u001b[0m\u001b[0;34m\u001b[0m\u001b[0;34m\u001b[0m\u001b[0m\n",
      "\u001b[0;31mAttributeError\u001b[0m: 'NoneType' object has no attribute 'remove_edge'"
     ]
    }
   ],
   "source": [
    "cells = pr.generate_artificial_spheroid(5)['cells']\n",
    "spheroid = {}\n",
    "spheroid['cells'] = cells\n",
    "\n",
    "G = graph.generate_voronoi_graph(spheroid, zRatio = 1, dCells = 0.2)"
   ]
  },
  {
   "cell_type": "code",
   "execution_count": null,
   "metadata": {},
   "outputs": [],
   "source": [
    "for ind in G.nodes():\n",
    "    \n",
    "    G.add_node(ind, color = 'r')"
   ]
  },
  {
   "cell_type": "code",
   "execution_count": null,
   "metadata": {},
   "outputs": [],
   "source": [
    "pos =nx.get_node_attributes(G,'pos')"
   ]
  },
  {
   "cell_type": "code",
   "execution_count": null,
   "metadata": {},
   "outputs": [],
   "source": [
    "pos"
   ]
  },
  {
   "cell_type": "code",
   "execution_count": null,
   "metadata": {},
   "outputs": [],
   "source": [
    "import matplotlib.pyplot as plt\n",
    "from mpl_toolkits.mplot3d import Axes3D\n",
    "\n",
    "network_plot_3D(G, 100)"
   ]
  },
  {
   "cell_type": "code",
   "execution_count": null,
   "metadata": {},
   "outputs": [],
   "source": [
    "def network_plot_3D(G, angle,include_color:bool = False, save=False):\n",
    " \n",
    "    # Get node positions\n",
    "    pos = nx.get_node_attributes(G, 'pos')\n",
    "        \n",
    "    # Get number of nodes\n",
    "    n = G.number_of_nodes()\n",
    " \n",
    "    # Get the maximum number of edges adjacent to a single node\n",
    "    edge_max = max([G.degree(i) for i in range(n)])\n",
    " \n",
    "    # Define color range proportional to number of edges adjacent to a single node\n",
    "    colors = nx.get_node_attributes(G, 'color')\n",
    " \n",
    "    # 3D network plot\n",
    "    with plt.style.context(('ggplot')):\n",
    "        \n",
    "        fig = plt.figure(figsize=(10,8))\n",
    "        ax = Axes3D(fig)\n",
    "        \n",
    "        # Loop on the pos dictionary to extract the x,y,z coordinates of each node\n",
    "        \n",
    "        for i,j in enumerate(G.edges()):\n",
    "             \n",
    "            x = np.array((pos[j[0]][0], pos[j[1]][0]))\n",
    "            y = np.array((pos[j[0]][1], pos[j[1]][1]))\n",
    "            z = np.array((pos[j[0]][2], pos[j[1]][2]))\n",
    "        \n",
    "        # Plot the connecting lines\n",
    "            ax.plot(x, y, z, c='black', alpha=60)\n",
    "            \n",
    "        x = []\n",
    "        y = []\n",
    "        z = []\n",
    "        nodeColor = []\n",
    "        s = []\n",
    "            \n",
    "        for key, value in pos.items():\n",
    "            x.append(value[0])\n",
    "            y.append(value[1])\n",
    "            z.append(value[2])\n",
    "            s.append(20+20*G.degree(key))\n",
    "            nodeColor.append(colors[key])\n",
    "         # Scatter plot\n",
    "        sc = ax.scatter(x, y, z, c=nodeColor, s=s, edgecolors='k', alpha=0.7)\n",
    "        \n",
    "        # Loop on the list of edges to get the x,y,z, coordinates of the connected nodes\n",
    "        # Those two points are the extrema of the line to be plotted\n",
    "\n",
    "    \n",
    "    # Set the initial view\n",
    "    ax.view_init(30, angle)\n",
    "    fig.patch.set_facecolor((1.0, 1, 1))\n",
    "    ax.set_facecolor((1.0, 1, 1))\n",
    "    ax.w_xaxis.set_pane_color((1.0, 1.0, 1.0, 1.0))\n",
    "    ax.w_yaxis.set_pane_color((1.0, 1.0, 1.0, 1.0))\n",
    "    ax.w_zaxis.set_pane_color((1.0, 1.0, 1.0, 1.0))\n",
    "    plt.rc('grid', linestyle=\"-\", color='black')\n",
    "    #plt.axis('off')\n",
    "    \n",
    "    #ax.set_xlabel('X axis ($\\mu m$)')\n",
    "    #ax.set_ylabel('Y axis ($\\mu m$)')\n",
    "    #ax.set_zlabel('Z axis ($\\mu m$)')\n",
    "    #ax.set_xlim(100, 250)\n",
    "    #ax.set_ylim(100, 250)\n",
    "    #ax.set_zlim(50, 90)\n",
    "    return"
   ]
  },
  {
   "cell_type": "code",
   "execution_count": null,
   "metadata": {},
   "outputs": [],
   "source": []
  }
 ],
 "metadata": {
  "kernelspec": {
   "display_name": "Python 3",
   "language": "python",
   "name": "python3"
  },
  "language_info": {
   "codemirror_mode": {
    "name": "ipython",
    "version": 3
   },
   "file_extension": ".py",
   "mimetype": "text/x-python",
   "name": "python",
   "nbconvert_exporter": "python",
   "pygments_lexer": "ipython3",
   "version": "3.7.4"
  }
 },
 "nbformat": 4,
 "nbformat_minor": 2
}
